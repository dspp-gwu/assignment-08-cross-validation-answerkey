{
 "cells": [
  {
   "cell_type": "code",
   "execution_count": 23,
   "metadata": {
    "collapsed": false
   },
   "outputs": [],
   "source": [
    "import pandas as pd\n",
    "import numpy as np\n",
    "\n",
    "import os\n",
    "os.chdir('C:\\\\Users\\\\peter.casey\\\\Documents\\\\RodentAbatement')"
   ]
  },
  {
   "cell_type": "code",
   "execution_count": 24,
   "metadata": {
    "collapsed": true
   },
   "outputs": [],
   "source": [
    "data = pd.read_csv('rodent_model_data.csv')"
   ]
  },
  {
   "cell_type": "code",
   "execution_count": 25,
   "metadata": {
    "collapsed": false
   },
   "outputs": [],
   "source": [
    "data = data[data.year==2016]\n",
    "data = data[data.calls==1]"
   ]
  },
  {
   "cell_type": "markdown",
   "metadata": {},
   "source": [
    "Match Blocks to Wards"
   ]
  },
  {
   "cell_type": "code",
   "execution_count": 26,
   "metadata": {
    "collapsed": false
   },
   "outputs": [],
   "source": [
    "import geopandas as gpd\n",
    "\n",
    "blocks = gpd.read_file('Census_Blocks__2010.geojson')[['GEOID', 'geometry']]\n",
    "#blocks['TRACT'] = blocks['GEOID'].str[0:11]\n",
    "tracts = gpd.read_file('Census_Tracts_in_2010.geojson')[['GEOID', 'TRACT', 'geometry']]\n",
    "wards = gpd.read_file('Ward_from_2012.geojson')[['WARD', 'geometry']]"
   ]
  },
  {
   "cell_type": "code",
   "execution_count": 27,
   "metadata": {
    "collapsed": false
   },
   "outputs": [
    {
     "name": "stdout",
     "output_type": "stream",
     "text": [
      "GEOID          0\n",
      "geometry       0\n",
      "index_right    0\n",
      "WARD           0\n",
      "dtype: int64\n",
      "1     418\n",
      "2    1009\n",
      "3     919\n",
      "4    1008\n",
      "5     984\n",
      "6    1111\n",
      "7     869\n",
      "8     726\n",
      "Name: WARD, dtype: int64\n",
      "110010046002004    3\n",
      "110010079031005    3\n",
      "110010023021010    3\n",
      "110010062021248    3\n",
      "110010032001001    3\n",
      "Name: GEOID, dtype: int64\n"
     ]
    }
   ],
   "source": [
    "blocks_to_ward = gpd.sjoin(blocks, wards, how='left', op='intersects')\n",
    "blocks_to_ward['WARD'] = blocks_to_ward['WARD'].astype(int)\n",
    "print(blocks_to_ward.isnull().sum())\n",
    "print(blocks_to_ward.WARD.value_counts().sort_index())\n",
    "print(blocks_to_ward.GEOID.value_counts().head())"
   ]
  },
  {
   "cell_type": "code",
   "execution_count": 28,
   "metadata": {
    "collapsed": false
   },
   "outputs": [
    {
     "data": {
      "text/html": [
       "<div>\n",
       "<table border=\"1\" class=\"dataframe\">\n",
       "  <thead>\n",
       "    <tr style=\"text-align: right;\">\n",
       "      <th></th>\n",
       "      <th>GEOID</th>\n",
       "      <th>geometry</th>\n",
       "      <th>index_right</th>\n",
       "      <th>WARD</th>\n",
       "    </tr>\n",
       "  </thead>\n",
       "  <tbody>\n",
       "    <tr>\n",
       "      <th>0</th>\n",
       "      <td>110010003003006</td>\n",
       "      <td>POLYGON ((-77.07863030944546 38.9161507873491,...</td>\n",
       "      <td>6</td>\n",
       "      <td>3</td>\n",
       "    </tr>\n",
       "    <tr>\n",
       "      <th>0</th>\n",
       "      <td>110010003003006</td>\n",
       "      <td>POLYGON ((-77.07863030944546 38.9161507873491,...</td>\n",
       "      <td>3</td>\n",
       "      <td>2</td>\n",
       "    </tr>\n",
       "    <tr>\n",
       "      <th>1</th>\n",
       "      <td>110010003003007</td>\n",
       "      <td>POLYGON ((-77.07698430927661 38.91551178808869...</td>\n",
       "      <td>3</td>\n",
       "      <td>2</td>\n",
       "    </tr>\n",
       "    <tr>\n",
       "      <th>2</th>\n",
       "      <td>110010003003008</td>\n",
       "      <td>POLYGON ((-77.07674330851466 38.91301678672006...</td>\n",
       "      <td>3</td>\n",
       "      <td>2</td>\n",
       "    </tr>\n",
       "    <tr>\n",
       "      <th>3</th>\n",
       "      <td>110010003003009</td>\n",
       "      <td>POLYGON ((-77.07412130781374 38.91268078711014...</td>\n",
       "      <td>3</td>\n",
       "      <td>2</td>\n",
       "    </tr>\n",
       "  </tbody>\n",
       "</table>\n",
       "</div>"
      ],
      "text/plain": [
       "             GEOID                                           geometry  \\\n",
       "0  110010003003006  POLYGON ((-77.07863030944546 38.9161507873491,...   \n",
       "0  110010003003006  POLYGON ((-77.07863030944546 38.9161507873491,...   \n",
       "1  110010003003007  POLYGON ((-77.07698430927661 38.91551178808869...   \n",
       "2  110010003003008  POLYGON ((-77.07674330851466 38.91301678672006...   \n",
       "3  110010003003009  POLYGON ((-77.07412130781374 38.91268078711014...   \n",
       "\n",
       "   index_right  WARD  \n",
       "0            6     3  \n",
       "0            3     2  \n",
       "1            3     2  \n",
       "2            3     2  \n",
       "3            3     2  "
      ]
     },
     "execution_count": 28,
     "metadata": {},
     "output_type": "execute_result"
    }
   ],
   "source": [
    "blocks_to_ward.head()"
   ]
  },
  {
   "cell_type": "code",
   "execution_count": 29,
   "metadata": {
    "collapsed": false
   },
   "outputs": [
    {
     "data": {
      "text/plain": [
       "110010081003001    1\n",
       "110010050022002    1\n",
       "110010071001008    1\n",
       "110010103001009    1\n",
       "110010078083002    1\n",
       "Name: GEOID, dtype: int64"
      ]
     },
     "execution_count": 29,
     "metadata": {},
     "output_type": "execute_result"
    }
   ],
   "source": [
    "best_ward = pd.DataFrame(blocks_to_ward.groupby('GEOID').WARD.max())\n",
    "best_ward = best_ward.reset_index()\n",
    "#best_ward['GEOID'] = best_ward.GEOID.astype(int)\n",
    "best_ward.to_csv('best_ward.csv', index=False)\n",
    "best_ward = pd.read_csv('best_ward.csv')\n",
    "best_ward.GEOID.value_counts().head()"
   ]
  },
  {
   "cell_type": "code",
   "execution_count": 30,
   "metadata": {
    "collapsed": false
   },
   "outputs": [],
   "source": [
    "final_data = data.merge(best_ward, how='left', on='GEOID')"
   ]
  },
  {
   "cell_type": "code",
   "execution_count": 31,
   "metadata": {
    "collapsed": true
   },
   "outputs": [],
   "source": [
    "for c in final_data.columns:\n",
    "    if 'month_' in c:\n",
    "        final_data = final_data.drop([c], axis=1)\n",
    "    elif 'year' in c:\n",
    "        final_data = final_data.drop([c], axis=1)\n",
    "    else:\n",
    "        continue"
   ]
  },
  {
   "cell_type": "code",
   "execution_count": 34,
   "metadata": {
    "collapsed": false
   },
   "outputs": [
    {
     "ename": "KeyError",
     "evalue": "('alley_condition', 'bbl_hotel', 'bbl_multifamily_rental', 'bbl_restaurant', 'bbl_single_family_rental', 'bbl_storage', 'bbl_two_family_rental', 'communitygarden_area', 'communitygarden_id', 'dcrapermit_addition', 'dcrapermit_demolition', 'dcrapermit_excavation', 'dcrapermit_new_building', 'dcrapermit_raze', 'impervious_area', 'month', 'num_mixed_use', 'num_non_residential', 'num_residential', 'park', 'pct_mixed_use', 'pct_non_residential', 'pct_residential', 'pop_density', 'sidewalk_grates', 'ssl_cndtn_Average_comm', 'ssl_cndtn_Average_res', 'ssl_cndtn_Excellent_comm', 'ssl_cndtn_Excellent_res', 'ssl_cndtn_Fair_comm', 'ssl_cndtn_Fair_res', 'ssl_cndtn_Good_comm', 'ssl_cndtn_Good_res', 'ssl_cndtn_Poor_comm', 'ssl_cndtn_Poor_res', 'ssl_cndtn_VeryGood_comm', 'ssl_cndtn_VeryGood_res', 'tot_pop', 'well_activity', 'WARD')",
     "output_type": "error",
     "traceback": [
      "\u001b[0;31m---------------------------------------------------------------------------\u001b[0m",
      "\u001b[0;31mKeyError\u001b[0m                                  Traceback (most recent call last)",
      "\u001b[0;32mC:\\Users\\peter.casey\\AppData\\Local\\Continuum\\Anaconda3\\envs\\py35\\lib\\site-packages\\pandas\\indexes\\base.py\u001b[0m in \u001b[0;36mget_loc\u001b[0;34m(self, key, method, tolerance)\u001b[0m\n\u001b[1;32m   1944\u001b[0m             \u001b[1;32mtry\u001b[0m\u001b[1;33m:\u001b[0m\u001b[1;33m\u001b[0m\u001b[0m\n\u001b[0;32m-> 1945\u001b[0;31m                 \u001b[1;32mreturn\u001b[0m \u001b[0mself\u001b[0m\u001b[1;33m.\u001b[0m\u001b[0m_engine\u001b[0m\u001b[1;33m.\u001b[0m\u001b[0mget_loc\u001b[0m\u001b[1;33m(\u001b[0m\u001b[0mkey\u001b[0m\u001b[1;33m)\u001b[0m\u001b[1;33m\u001b[0m\u001b[0m\n\u001b[0m\u001b[1;32m   1946\u001b[0m             \u001b[1;32mexcept\u001b[0m \u001b[0mKeyError\u001b[0m\u001b[1;33m:\u001b[0m\u001b[1;33m\u001b[0m\u001b[0m\n",
      "\u001b[0;32mpandas\\index.pyx\u001b[0m in \u001b[0;36mpandas.index.IndexEngine.get_loc (pandas\\index.c:4154)\u001b[0;34m()\u001b[0m\n",
      "\u001b[0;32mpandas\\index.pyx\u001b[0m in \u001b[0;36mpandas.index.IndexEngine.get_loc (pandas\\index.c:4018)\u001b[0;34m()\u001b[0m\n",
      "\u001b[0;32mpandas\\hashtable.pyx\u001b[0m in \u001b[0;36mpandas.hashtable.PyObjectHashTable.get_item (pandas\\hashtable.c:12368)\u001b[0;34m()\u001b[0m\n",
      "\u001b[0;32mpandas\\hashtable.pyx\u001b[0m in \u001b[0;36mpandas.hashtable.PyObjectHashTable.get_item (pandas\\hashtable.c:12322)\u001b[0;34m()\u001b[0m\n",
      "\u001b[0;31mKeyError\u001b[0m: ('alley_condition', 'bbl_hotel', 'bbl_multifamily_rental', 'bbl_restaurant', 'bbl_single_family_rental', 'bbl_storage', 'bbl_two_family_rental', 'communitygarden_area', 'communitygarden_id', 'dcrapermit_addition', 'dcrapermit_demolition', 'dcrapermit_excavation', 'dcrapermit_new_building', 'dcrapermit_raze', 'impervious_area', 'month', 'num_mixed_use', 'num_non_residential', 'num_residential', 'park', 'pct_mixed_use', 'pct_non_residential', 'pct_residential', 'pop_density', 'sidewalk_grates', 'ssl_cndtn_Average_comm', 'ssl_cndtn_Average_res', 'ssl_cndtn_Excellent_comm', 'ssl_cndtn_Excellent_res', 'ssl_cndtn_Fair_comm', 'ssl_cndtn_Fair_res', 'ssl_cndtn_Good_comm', 'ssl_cndtn_Good_res', 'ssl_cndtn_Poor_comm', 'ssl_cndtn_Poor_res', 'ssl_cndtn_VeryGood_comm', 'ssl_cndtn_VeryGood_res', 'tot_pop', 'well_activity', 'WARD')",
      "\nDuring handling of the above exception, another exception occurred:\n",
      "\u001b[0;31mKeyError\u001b[0m                                  Traceback (most recent call last)",
      "\u001b[0;32m<ipython-input-34-fc5b263eb496>\u001b[0m in \u001b[0;36m<module>\u001b[0;34m()\u001b[0m\n\u001b[1;32m     10\u001b[0m        \u001b[1;34m'ssl_cndtn_Good_comm'\u001b[0m\u001b[1;33m,\u001b[0m \u001b[1;34m'ssl_cndtn_Good_res'\u001b[0m\u001b[1;33m,\u001b[0m \u001b[1;34m'ssl_cndtn_Poor_comm'\u001b[0m\u001b[1;33m,\u001b[0m\u001b[1;33m\u001b[0m\u001b[0m\n\u001b[1;32m     11\u001b[0m        \u001b[1;34m'ssl_cndtn_Poor_res'\u001b[0m\u001b[1;33m,\u001b[0m \u001b[1;34m'ssl_cndtn_VeryGood_comm'\u001b[0m\u001b[1;33m,\u001b[0m\u001b[1;33m\u001b[0m\u001b[0m\n\u001b[0;32m---> 12\u001b[0;31m        'ssl_cndtn_VeryGood_res', 'tot_pop', 'well_activity', 'WARD']\n\u001b[0m",
      "\u001b[0;32mC:\\Users\\peter.casey\\AppData\\Local\\Continuum\\Anaconda3\\envs\\py35\\lib\\site-packages\\pandas\\core\\frame.py\u001b[0m in \u001b[0;36m__getitem__\u001b[0;34m(self, key)\u001b[0m\n\u001b[1;32m   1995\u001b[0m             \u001b[1;32mreturn\u001b[0m \u001b[0mself\u001b[0m\u001b[1;33m.\u001b[0m\u001b[0m_getitem_multilevel\u001b[0m\u001b[1;33m(\u001b[0m\u001b[0mkey\u001b[0m\u001b[1;33m)\u001b[0m\u001b[1;33m\u001b[0m\u001b[0m\n\u001b[1;32m   1996\u001b[0m         \u001b[1;32melse\u001b[0m\u001b[1;33m:\u001b[0m\u001b[1;33m\u001b[0m\u001b[0m\n\u001b[0;32m-> 1997\u001b[0;31m             \u001b[1;32mreturn\u001b[0m \u001b[0mself\u001b[0m\u001b[1;33m.\u001b[0m\u001b[0m_getitem_column\u001b[0m\u001b[1;33m(\u001b[0m\u001b[0mkey\u001b[0m\u001b[1;33m)\u001b[0m\u001b[1;33m\u001b[0m\u001b[0m\n\u001b[0m\u001b[1;32m   1998\u001b[0m \u001b[1;33m\u001b[0m\u001b[0m\n\u001b[1;32m   1999\u001b[0m     \u001b[1;32mdef\u001b[0m \u001b[0m_getitem_column\u001b[0m\u001b[1;33m(\u001b[0m\u001b[0mself\u001b[0m\u001b[1;33m,\u001b[0m \u001b[0mkey\u001b[0m\u001b[1;33m)\u001b[0m\u001b[1;33m:\u001b[0m\u001b[1;33m\u001b[0m\u001b[0m\n",
      "\u001b[0;32mC:\\Users\\peter.casey\\AppData\\Local\\Continuum\\Anaconda3\\envs\\py35\\lib\\site-packages\\pandas\\core\\frame.py\u001b[0m in \u001b[0;36m_getitem_column\u001b[0;34m(self, key)\u001b[0m\n\u001b[1;32m   2002\u001b[0m         \u001b[1;31m# get column\u001b[0m\u001b[1;33m\u001b[0m\u001b[1;33m\u001b[0m\u001b[0m\n\u001b[1;32m   2003\u001b[0m         \u001b[1;32mif\u001b[0m \u001b[0mself\u001b[0m\u001b[1;33m.\u001b[0m\u001b[0mcolumns\u001b[0m\u001b[1;33m.\u001b[0m\u001b[0mis_unique\u001b[0m\u001b[1;33m:\u001b[0m\u001b[1;33m\u001b[0m\u001b[0m\n\u001b[0;32m-> 2004\u001b[0;31m             \u001b[1;32mreturn\u001b[0m \u001b[0mself\u001b[0m\u001b[1;33m.\u001b[0m\u001b[0m_get_item_cache\u001b[0m\u001b[1;33m(\u001b[0m\u001b[0mkey\u001b[0m\u001b[1;33m)\u001b[0m\u001b[1;33m\u001b[0m\u001b[0m\n\u001b[0m\u001b[1;32m   2005\u001b[0m \u001b[1;33m\u001b[0m\u001b[0m\n\u001b[1;32m   2006\u001b[0m         \u001b[1;31m# duplicate columns & possible reduce dimensionality\u001b[0m\u001b[1;33m\u001b[0m\u001b[1;33m\u001b[0m\u001b[0m\n",
      "\u001b[0;32mC:\\Users\\peter.casey\\AppData\\Local\\Continuum\\Anaconda3\\envs\\py35\\lib\\site-packages\\pandas\\core\\generic.py\u001b[0m in \u001b[0;36m_get_item_cache\u001b[0;34m(self, item)\u001b[0m\n\u001b[1;32m   1348\u001b[0m         \u001b[0mres\u001b[0m \u001b[1;33m=\u001b[0m \u001b[0mcache\u001b[0m\u001b[1;33m.\u001b[0m\u001b[0mget\u001b[0m\u001b[1;33m(\u001b[0m\u001b[0mitem\u001b[0m\u001b[1;33m)\u001b[0m\u001b[1;33m\u001b[0m\u001b[0m\n\u001b[1;32m   1349\u001b[0m         \u001b[1;32mif\u001b[0m \u001b[0mres\u001b[0m \u001b[1;32mis\u001b[0m \u001b[1;32mNone\u001b[0m\u001b[1;33m:\u001b[0m\u001b[1;33m\u001b[0m\u001b[0m\n\u001b[0;32m-> 1350\u001b[0;31m             \u001b[0mvalues\u001b[0m \u001b[1;33m=\u001b[0m \u001b[0mself\u001b[0m\u001b[1;33m.\u001b[0m\u001b[0m_data\u001b[0m\u001b[1;33m.\u001b[0m\u001b[0mget\u001b[0m\u001b[1;33m(\u001b[0m\u001b[0mitem\u001b[0m\u001b[1;33m)\u001b[0m\u001b[1;33m\u001b[0m\u001b[0m\n\u001b[0m\u001b[1;32m   1351\u001b[0m             \u001b[0mres\u001b[0m \u001b[1;33m=\u001b[0m \u001b[0mself\u001b[0m\u001b[1;33m.\u001b[0m\u001b[0m_box_item_values\u001b[0m\u001b[1;33m(\u001b[0m\u001b[0mitem\u001b[0m\u001b[1;33m,\u001b[0m \u001b[0mvalues\u001b[0m\u001b[1;33m)\u001b[0m\u001b[1;33m\u001b[0m\u001b[0m\n\u001b[1;32m   1352\u001b[0m             \u001b[0mcache\u001b[0m\u001b[1;33m[\u001b[0m\u001b[0mitem\u001b[0m\u001b[1;33m]\u001b[0m \u001b[1;33m=\u001b[0m \u001b[0mres\u001b[0m\u001b[1;33m\u001b[0m\u001b[0m\n",
      "\u001b[0;32mC:\\Users\\peter.casey\\AppData\\Local\\Continuum\\Anaconda3\\envs\\py35\\lib\\site-packages\\pandas\\core\\internals.py\u001b[0m in \u001b[0;36mget\u001b[0;34m(self, item, fastpath)\u001b[0m\n\u001b[1;32m   3288\u001b[0m \u001b[1;33m\u001b[0m\u001b[0m\n\u001b[1;32m   3289\u001b[0m             \u001b[1;32mif\u001b[0m \u001b[1;32mnot\u001b[0m \u001b[0misnull\u001b[0m\u001b[1;33m(\u001b[0m\u001b[0mitem\u001b[0m\u001b[1;33m)\u001b[0m\u001b[1;33m:\u001b[0m\u001b[1;33m\u001b[0m\u001b[0m\n\u001b[0;32m-> 3290\u001b[0;31m                 \u001b[0mloc\u001b[0m \u001b[1;33m=\u001b[0m \u001b[0mself\u001b[0m\u001b[1;33m.\u001b[0m\u001b[0mitems\u001b[0m\u001b[1;33m.\u001b[0m\u001b[0mget_loc\u001b[0m\u001b[1;33m(\u001b[0m\u001b[0mitem\u001b[0m\u001b[1;33m)\u001b[0m\u001b[1;33m\u001b[0m\u001b[0m\n\u001b[0m\u001b[1;32m   3291\u001b[0m             \u001b[1;32melse\u001b[0m\u001b[1;33m:\u001b[0m\u001b[1;33m\u001b[0m\u001b[0m\n\u001b[1;32m   3292\u001b[0m                 \u001b[0mindexer\u001b[0m \u001b[1;33m=\u001b[0m \u001b[0mnp\u001b[0m\u001b[1;33m.\u001b[0m\u001b[0marange\u001b[0m\u001b[1;33m(\u001b[0m\u001b[0mlen\u001b[0m\u001b[1;33m(\u001b[0m\u001b[0mself\u001b[0m\u001b[1;33m.\u001b[0m\u001b[0mitems\u001b[0m\u001b[1;33m)\u001b[0m\u001b[1;33m)\u001b[0m\u001b[1;33m[\u001b[0m\u001b[0misnull\u001b[0m\u001b[1;33m(\u001b[0m\u001b[0mself\u001b[0m\u001b[1;33m.\u001b[0m\u001b[0mitems\u001b[0m\u001b[1;33m)\u001b[0m\u001b[1;33m]\u001b[0m\u001b[1;33m\u001b[0m\u001b[0m\n",
      "\u001b[0;32mC:\\Users\\peter.casey\\AppData\\Local\\Continuum\\Anaconda3\\envs\\py35\\lib\\site-packages\\pandas\\indexes\\base.py\u001b[0m in \u001b[0;36mget_loc\u001b[0;34m(self, key, method, tolerance)\u001b[0m\n\u001b[1;32m   1945\u001b[0m                 \u001b[1;32mreturn\u001b[0m \u001b[0mself\u001b[0m\u001b[1;33m.\u001b[0m\u001b[0m_engine\u001b[0m\u001b[1;33m.\u001b[0m\u001b[0mget_loc\u001b[0m\u001b[1;33m(\u001b[0m\u001b[0mkey\u001b[0m\u001b[1;33m)\u001b[0m\u001b[1;33m\u001b[0m\u001b[0m\n\u001b[1;32m   1946\u001b[0m             \u001b[1;32mexcept\u001b[0m \u001b[0mKeyError\u001b[0m\u001b[1;33m:\u001b[0m\u001b[1;33m\u001b[0m\u001b[0m\n\u001b[0;32m-> 1947\u001b[0;31m                 \u001b[1;32mreturn\u001b[0m \u001b[0mself\u001b[0m\u001b[1;33m.\u001b[0m\u001b[0m_engine\u001b[0m\u001b[1;33m.\u001b[0m\u001b[0mget_loc\u001b[0m\u001b[1;33m(\u001b[0m\u001b[0mself\u001b[0m\u001b[1;33m.\u001b[0m\u001b[0m_maybe_cast_indexer\u001b[0m\u001b[1;33m(\u001b[0m\u001b[0mkey\u001b[0m\u001b[1;33m)\u001b[0m\u001b[1;33m)\u001b[0m\u001b[1;33m\u001b[0m\u001b[0m\n\u001b[0m\u001b[1;32m   1948\u001b[0m \u001b[1;33m\u001b[0m\u001b[0m\n\u001b[1;32m   1949\u001b[0m         \u001b[0mindexer\u001b[0m \u001b[1;33m=\u001b[0m \u001b[0mself\u001b[0m\u001b[1;33m.\u001b[0m\u001b[0mget_indexer\u001b[0m\u001b[1;33m(\u001b[0m\u001b[1;33m[\u001b[0m\u001b[0mkey\u001b[0m\u001b[1;33m]\u001b[0m\u001b[1;33m,\u001b[0m \u001b[0mmethod\u001b[0m\u001b[1;33m=\u001b[0m\u001b[0mmethod\u001b[0m\u001b[1;33m,\u001b[0m \u001b[0mtolerance\u001b[0m\u001b[1;33m=\u001b[0m\u001b[0mtolerance\u001b[0m\u001b[1;33m)\u001b[0m\u001b[1;33m\u001b[0m\u001b[0m\n",
      "\u001b[0;32mpandas\\index.pyx\u001b[0m in \u001b[0;36mpandas.index.IndexEngine.get_loc (pandas\\index.c:4154)\u001b[0;34m()\u001b[0m\n",
      "\u001b[0;32mpandas\\index.pyx\u001b[0m in \u001b[0;36mpandas.index.IndexEngine.get_loc (pandas\\index.c:4018)\u001b[0;34m()\u001b[0m\n",
      "\u001b[0;32mpandas\\hashtable.pyx\u001b[0m in \u001b[0;36mpandas.hashtable.PyObjectHashTable.get_item (pandas\\hashtable.c:12368)\u001b[0;34m()\u001b[0m\n",
      "\u001b[0;32mpandas\\hashtable.pyx\u001b[0m in \u001b[0;36mpandas.hashtable.PyObjectHashTable.get_item (pandas\\hashtable.c:12322)\u001b[0;34m()\u001b[0m\n",
      "\u001b[0;31mKeyError\u001b[0m: ('alley_condition', 'bbl_hotel', 'bbl_multifamily_rental', 'bbl_restaurant', 'bbl_single_family_rental', 'bbl_storage', 'bbl_two_family_rental', 'communitygarden_area', 'communitygarden_id', 'dcrapermit_addition', 'dcrapermit_demolition', 'dcrapermit_excavation', 'dcrapermit_new_building', 'dcrapermit_raze', 'impervious_area', 'month', 'num_mixed_use', 'num_non_residential', 'num_residential', 'park', 'pct_mixed_use', 'pct_non_residential', 'pct_residential', 'pop_density', 'sidewalk_grates', 'ssl_cndtn_Average_comm', 'ssl_cndtn_Average_res', 'ssl_cndtn_Excellent_comm', 'ssl_cndtn_Excellent_res', 'ssl_cndtn_Fair_comm', 'ssl_cndtn_Fair_res', 'ssl_cndtn_Good_comm', 'ssl_cndtn_Good_res', 'ssl_cndtn_Poor_comm', 'ssl_cndtn_Poor_res', 'ssl_cndtn_VeryGood_comm', 'ssl_cndtn_VeryGood_res', 'tot_pop', 'well_activity', 'WARD')"
     ]
    }
   ],
   "source": [
    "final_data = final_data[['alley_condition', 'bbl_hotel', 'bbl_multifamily_rental',\n",
    "       'bbl_restaurant', 'bbl_single_family_rental', 'bbl_storage',\n",
    "       'bbl_two_family_rental', 'communitygarden_area', 'communitygarden_id', \n",
    "        'dcrapermit_addition', 'dcrapermit_demolition', 'dcrapermit_excavation', \n",
    "       'dcrapermit_new_building', 'dcrapermit_raze', 'impervious_area', 'month', 'num_mixed_use',\n",
    "       'num_non_residential', 'num_residential', 'park', 'pct_mixed_use', 'pct_non_residential',\n",
    "       'pct_residential', 'pop_density', 'sidewalk_grates', 'ssl_cndtn_Average_comm',\n",
    "       'ssl_cndtn_Average_res', 'ssl_cndtn_Excellent_comm',\n",
    "       'ssl_cndtn_Excellent_res', 'ssl_cndtn_Fair_comm', 'ssl_cndtn_Fair_res',\n",
    "       'ssl_cndtn_Good_comm', 'ssl_cndtn_Good_res', 'ssl_cndtn_Poor_comm',\n",
    "       'ssl_cndtn_Poor_res', 'ssl_cndtn_VeryGood_comm',\n",
    "       'ssl_cndtn_VeryGood_res', 'tot_pop', 'well_activity', 'WARD']]"
   ]
  },
  {
   "cell_type": "code",
   "execution_count": 33,
   "metadata": {
    "collapsed": false
   },
   "outputs": [
    {
     "data": {
      "text/plain": [
       "Index(['GEOID', 'activity', 'alley_catchbasin', 'alley_condition',\n",
       "       'alley_endmeasure', 'alley_historic', 'alley_length', 'alley_lights',\n",
       "       'alley_lowpoints', 'alley_material', 'bbl_food', 'bbl_hotel',\n",
       "       'bbl_multifamily_rental', 'bbl_pool', 'bbl_restaurant',\n",
       "       'bbl_single_family_rental', 'bbl_storage', 'bbl_two_family_rental',\n",
       "       'bbl_waste', 'call_past_3m', 'calls', 'communitygarden_area',\n",
       "       'communitygarden_id', 'dcrapermit_addition', 'dcrapermit_demolition',\n",
       "       'dcrapermit_excavation', 'dcrapermit_garage', 'dcrapermit_new_building',\n",
       "       'dcrapermit_pool', 'dcrapermit_raze', 'dcrapermit_retain_wall',\n",
       "       'flood_zoneA', 'flood_zoneAE', 'flood_zoneX', 'flood_zoneX500',\n",
       "       'impervious_area', 'month', 'num_mixed_use', 'num_non_residential',\n",
       "       'num_residential', 'park', 'park_drinkfount', 'park_dumpster',\n",
       "       'park_outdoorpool', 'park_playground', 'park_trashcan', 'park_woodland',\n",
       "       'pct_mixed_use', 'pct_non_residential', 'pct_residential',\n",
       "       'playground_surfaceEWF', 'playground_surfaceRubber', 'pop_density',\n",
       "       'sidewalk_grates', 'ssl_cndtn_Average_comm', 'ssl_cndtn_Average_res',\n",
       "       'ssl_cndtn_Excellent_comm', 'ssl_cndtn_Excellent_res',\n",
       "       'ssl_cndtn_Fair_comm', 'ssl_cndtn_Fair_res', 'ssl_cndtn_Good_comm',\n",
       "       'ssl_cndtn_Good_res', 'ssl_cndtn_Poor_comm', 'ssl_cndtn_Poor_res',\n",
       "       'ssl_cndtn_VeryGood_comm', 'ssl_cndtn_VeryGood_res', 'tot_pop',\n",
       "       'well_activity', 'WARD'],\n",
       "      dtype='object')"
      ]
     },
     "execution_count": 33,
     "metadata": {},
     "output_type": "execute_result"
    }
   ],
   "source": [
    "final_data.columns"
   ]
  },
  {
   "cell_type": "code",
   "execution_count": 32,
   "metadata": {
    "collapsed": true
   },
   "outputs": [],
   "source": [
    "final_data.to_csv('C:\\\\Users\\\\peter.casey\\\\Documents\\\\dspp\\\\rat_data_2016.csv', index=False)"
   ]
  },
  {
   "cell_type": "markdown",
   "metadata": {},
   "source": [
    "## Messing around"
   ]
  },
  {
   "cell_type": "code",
   "execution_count": 82,
   "metadata": {
    "collapsed": false
   },
   "outputs": [
    {
     "ename": "TypeError",
     "evalue": "cannot convert the series to <class 'int'>",
     "output_type": "error",
     "traceback": [
      "\u001b[0;31m---------------------------------------------------------------------------\u001b[0m",
      "\u001b[0;31mTypeError\u001b[0m                                 Traceback (most recent call last)",
      "\u001b[0;32m<ipython-input-82-3b8a76d52ea3>\u001b[0m in \u001b[0;36m<module>\u001b[0;34m()\u001b[0m\n\u001b[1;32m      1\u001b[0m \u001b[0mblocks_to_ward\u001b[0m \u001b[1;33m=\u001b[0m \u001b[0mblocks_to_ward\u001b[0m\u001b[1;33m.\u001b[0m\u001b[0mreset_index\u001b[0m\u001b[1;33m(\u001b[0m\u001b[1;33m)\u001b[0m\u001b[1;33m\u001b[0m\u001b[0m\n\u001b[0;32m----> 2\u001b[0;31m \u001b[0mblocks_to_ward\u001b[0m\u001b[1;33m[\u001b[0m\u001b[1;34m'geometry'\u001b[0m\u001b[1;33m]\u001b[0m\u001b[1;33m.\u001b[0m\u001b[0mintersection\u001b[0m\u001b[1;33m(\u001b[0m\u001b[0mwards\u001b[0m\u001b[1;33m[\u001b[0m\u001b[1;34m'geometry'\u001b[0m\u001b[1;33m]\u001b[0m\u001b[1;33m.\u001b[0m\u001b[0miloc\u001b[0m\u001b[1;33m[\u001b[0m\u001b[0mint\u001b[0m\u001b[1;33m(\u001b[0m\u001b[0mblocks_to_ward\u001b[0m\u001b[1;33m.\u001b[0m\u001b[0mindex_right\u001b[0m\u001b[1;33m)\u001b[0m\u001b[1;33m]\u001b[0m\u001b[1;33m)\u001b[0m\u001b[1;33m.\u001b[0m\u001b[0marea\u001b[0m\u001b[1;33m\u001b[0m\u001b[0m\n\u001b[0m",
      "\u001b[0;32mC:\\Users\\peter.casey\\AppData\\Local\\Continuum\\Anaconda3\\envs\\py35\\lib\\site-packages\\pandas\\core\\series.py\u001b[0m in \u001b[0;36mwrapper\u001b[0;34m(self)\u001b[0m\n\u001b[1;32m     76\u001b[0m             \u001b[1;32mreturn\u001b[0m \u001b[0mconverter\u001b[0m\u001b[1;33m(\u001b[0m\u001b[0mself\u001b[0m\u001b[1;33m.\u001b[0m\u001b[0miloc\u001b[0m\u001b[1;33m[\u001b[0m\u001b[1;36m0\u001b[0m\u001b[1;33m]\u001b[0m\u001b[1;33m)\u001b[0m\u001b[1;33m\u001b[0m\u001b[0m\n\u001b[1;32m     77\u001b[0m         raise TypeError(\"cannot convert the series to \"\n\u001b[0;32m---> 78\u001b[0;31m                         \"{0}\".format(str(converter)))\n\u001b[0m\u001b[1;32m     79\u001b[0m \u001b[1;33m\u001b[0m\u001b[0m\n\u001b[1;32m     80\u001b[0m     \u001b[1;32mreturn\u001b[0m \u001b[0mwrapper\u001b[0m\u001b[1;33m\u001b[0m\u001b[0m\n",
      "\u001b[0;31mTypeError\u001b[0m: cannot convert the series to <class 'int'>"
     ]
    }
   ],
   "source": [
    "blocks_to_ward = blocks_to_ward.reset_index()\n",
    "blocks_to_ward['geometry'].intersection(wards['geometry'].iloc[int(blocks_to_ward.index_right)]).area"
   ]
  },
  {
   "cell_type": "code",
   "execution_count": null,
   "metadata": {
    "collapsed": false
   },
   "outputs": [],
   "source": [
    "intersect_areas = gpd.overlay(tracts, wards, how = 'intersection').area"
   ]
  },
  {
   "cell_type": "code",
   "execution_count": null,
   "metadata": {
    "collapsed": false
   },
   "outputs": [],
   "source": [
    "tract_areas = tracts.merge(pd.DataFrame(intersect_areas, columns=['area']), how='left', left_index=True, right_index=True)\n",
    "max_area = pd.DataFrame(tract_areas.groupby('GEOID').area.max(), columns=['area'])\n",
    "tract_areas.merge(tracts, how='inner', left_on='area', right_on='area')"
   ]
  },
  {
   "cell_type": "code",
   "execution_count": 36,
   "metadata": {
    "collapsed": false
   },
   "outputs": [
    {
     "data": {
      "text/html": [
       "<div>\n",
       "<table border=\"1\" class=\"dataframe\">\n",
       "  <thead>\n",
       "    <tr style=\"text-align: right;\">\n",
       "      <th>GEOID</th>\n",
       "      <th>110010001001000</th>\n",
       "      <th>110010001001000</th>\n",
       "      <th>110010001001000</th>\n",
       "      <th>110010001001000</th>\n",
       "      <th>110010001001000</th>\n",
       "    </tr>\n",
       "  </thead>\n",
       "  <tbody>\n",
       "    <tr>\n",
       "      <th>geometry</th>\n",
       "      <td>POLYGON ((-77.06474566621758 38.91916571557175...</td>\n",
       "      <td>POLYGON ((-77.06474566621758 38.91916571557175...</td>\n",
       "      <td>POLYGON ((-77.06474566621758 38.91916571557175...</td>\n",
       "      <td>POLYGON ((-77.06474566621758 38.91916571557175...</td>\n",
       "      <td>POLYGON ((-77.06474566621758 38.91916571557175...</td>\n",
       "    </tr>\n",
       "    <tr>\n",
       "      <th>ADDRESS_ID</th>\n",
       "      <td>261707</td>\n",
       "      <td>273153</td>\n",
       "      <td>273155</td>\n",
       "      <td>273157</td>\n",
       "      <td>279450</td>\n",
       "    </tr>\n",
       "    <tr>\n",
       "      <th>MARID</th>\n",
       "      <td>261707</td>\n",
       "      <td>273153</td>\n",
       "      <td>273155</td>\n",
       "      <td>273157</td>\n",
       "      <td>279450</td>\n",
       "    </tr>\n",
       "    <tr>\n",
       "      <th>STATUS</th>\n",
       "      <td>ACTIVE</td>\n",
       "      <td>ACTIVE</td>\n",
       "      <td>ACTIVE</td>\n",
       "      <td>ACTIVE</td>\n",
       "      <td>ACTIVE</td>\n",
       "    </tr>\n",
       "    <tr>\n",
       "      <th>ADDRNUM</th>\n",
       "      <td>3001</td>\n",
       "      <td>1601</td>\n",
       "      <td>2517</td>\n",
       "      <td>2521</td>\n",
       "      <td>1901</td>\n",
       "    </tr>\n",
       "    <tr>\n",
       "      <th>STNAME</th>\n",
       "      <td>R</td>\n",
       "      <td>28TH</td>\n",
       "      <td>Q</td>\n",
       "      <td>Q</td>\n",
       "      <td>WISCONSIN</td>\n",
       "    </tr>\n",
       "    <tr>\n",
       "      <th>STREET_TYPE</th>\n",
       "      <td>STREET</td>\n",
       "      <td>STREET</td>\n",
       "      <td>STREET</td>\n",
       "      <td>STREET</td>\n",
       "      <td>AVENUE</td>\n",
       "    </tr>\n",
       "    <tr>\n",
       "      <th>QUADRANT</th>\n",
       "      <td>NW</td>\n",
       "      <td>NW</td>\n",
       "      <td>NW</td>\n",
       "      <td>NW</td>\n",
       "      <td>NW</td>\n",
       "    </tr>\n",
       "    <tr>\n",
       "      <th>FULLADDRESS</th>\n",
       "      <td>3001 R STREET NW</td>\n",
       "      <td>1601 28TH STREET NW</td>\n",
       "      <td>2517 Q STREET NW</td>\n",
       "      <td>2521 Q STREET NW</td>\n",
       "      <td>1901 WISCONSIN AVENUE NW</td>\n",
       "    </tr>\n",
       "    <tr>\n",
       "      <th>CITY</th>\n",
       "      <td>WASHINGTON</td>\n",
       "      <td>WASHINGTON</td>\n",
       "      <td>WASHINGTON</td>\n",
       "      <td>WASHINGTON</td>\n",
       "      <td>WASHINGTON</td>\n",
       "    </tr>\n",
       "    <tr>\n",
       "      <th>STATE</th>\n",
       "      <td>DC</td>\n",
       "      <td>DC</td>\n",
       "      <td>DC</td>\n",
       "      <td>DC</td>\n",
       "      <td>DC</td>\n",
       "    </tr>\n",
       "    <tr>\n",
       "      <th>CENSUS_TRACT</th>\n",
       "      <td>000100</td>\n",
       "      <td>000100</td>\n",
       "      <td>000100</td>\n",
       "      <td>000100</td>\n",
       "      <td>000100</td>\n",
       "    </tr>\n",
       "    <tr>\n",
       "      <th>CENSUS_BLOCK</th>\n",
       "      <td>000100 1000</td>\n",
       "      <td>000100 1000</td>\n",
       "      <td>000100 1000</td>\n",
       "      <td>000100 1000</td>\n",
       "      <td>000100 1000</td>\n",
       "    </tr>\n",
       "    <tr>\n",
       "      <th>CENSUS_BLOCKGROUP</th>\n",
       "      <td>000100 1</td>\n",
       "      <td>000100 1</td>\n",
       "      <td>000100 1</td>\n",
       "      <td>000100 1</td>\n",
       "      <td>000100 1</td>\n",
       "    </tr>\n",
       "    <tr>\n",
       "      <th>WARD</th>\n",
       "      <td>Ward 2</td>\n",
       "      <td>Ward 2</td>\n",
       "      <td>Ward 2</td>\n",
       "      <td>Ward 2</td>\n",
       "      <td>Ward 2</td>\n",
       "    </tr>\n",
       "    <tr>\n",
       "      <th>ANC</th>\n",
       "      <td>ANC 2E</td>\n",
       "      <td>ANC 2E</td>\n",
       "      <td>ANC 2E</td>\n",
       "      <td>ANC 2E</td>\n",
       "      <td>ANC 2E</td>\n",
       "    </tr>\n",
       "    <tr>\n",
       "      <th>SMD</th>\n",
       "      <td>SMD 2E07</td>\n",
       "      <td>SMD 2E07</td>\n",
       "      <td>SMD 2E07</td>\n",
       "      <td>SMD 2E07</td>\n",
       "      <td>SMD 2E07</td>\n",
       "    </tr>\n",
       "    <tr>\n",
       "      <th>LATITUDE</th>\n",
       "      <td>38.9127</td>\n",
       "      <td>38.9107</td>\n",
       "      <td>38.9108</td>\n",
       "      <td>38.9108</td>\n",
       "      <td>38.9163</td>\n",
       "    </tr>\n",
       "    <tr>\n",
       "      <th>LONGITUDE</th>\n",
       "      <td>-77.0594</td>\n",
       "      <td>-77.0569</td>\n",
       "      <td>-77.0541</td>\n",
       "      <td>-77.0542</td>\n",
       "      <td>-77.0678</td>\n",
       "    </tr>\n",
       "  </tbody>\n",
       "</table>\n",
       "</div>"
      ],
      "text/plain": [
       "GEOID                                                110010001001000  \\\n",
       "geometry           POLYGON ((-77.06474566621758 38.91916571557175...   \n",
       "ADDRESS_ID                                                    261707   \n",
       "MARID                                                         261707   \n",
       "STATUS                                                        ACTIVE   \n",
       "ADDRNUM                                                         3001   \n",
       "STNAME                                                             R   \n",
       "STREET_TYPE                                                   STREET   \n",
       "QUADRANT                                                          NW   \n",
       "FULLADDRESS                                         3001 R STREET NW   \n",
       "CITY                                                      WASHINGTON   \n",
       "STATE                                                             DC   \n",
       "CENSUS_TRACT                                                  000100   \n",
       "CENSUS_BLOCK                                             000100 1000   \n",
       "CENSUS_BLOCKGROUP                                           000100 1   \n",
       "WARD                                                          Ward 2   \n",
       "ANC                                                           ANC 2E   \n",
       "SMD                                                         SMD 2E07   \n",
       "LATITUDE                                                     38.9127   \n",
       "LONGITUDE                                                   -77.0594   \n",
       "\n",
       "GEOID                                                110010001001000  \\\n",
       "geometry           POLYGON ((-77.06474566621758 38.91916571557175...   \n",
       "ADDRESS_ID                                                    273153   \n",
       "MARID                                                         273153   \n",
       "STATUS                                                        ACTIVE   \n",
       "ADDRNUM                                                         1601   \n",
       "STNAME                                                          28TH   \n",
       "STREET_TYPE                                                   STREET   \n",
       "QUADRANT                                                          NW   \n",
       "FULLADDRESS                                      1601 28TH STREET NW   \n",
       "CITY                                                      WASHINGTON   \n",
       "STATE                                                             DC   \n",
       "CENSUS_TRACT                                                  000100   \n",
       "CENSUS_BLOCK                                             000100 1000   \n",
       "CENSUS_BLOCKGROUP                                           000100 1   \n",
       "WARD                                                          Ward 2   \n",
       "ANC                                                           ANC 2E   \n",
       "SMD                                                         SMD 2E07   \n",
       "LATITUDE                                                     38.9107   \n",
       "LONGITUDE                                                   -77.0569   \n",
       "\n",
       "GEOID                                                110010001001000  \\\n",
       "geometry           POLYGON ((-77.06474566621758 38.91916571557175...   \n",
       "ADDRESS_ID                                                    273155   \n",
       "MARID                                                         273155   \n",
       "STATUS                                                        ACTIVE   \n",
       "ADDRNUM                                                         2517   \n",
       "STNAME                                                             Q   \n",
       "STREET_TYPE                                                   STREET   \n",
       "QUADRANT                                                          NW   \n",
       "FULLADDRESS                                         2517 Q STREET NW   \n",
       "CITY                                                      WASHINGTON   \n",
       "STATE                                                             DC   \n",
       "CENSUS_TRACT                                                  000100   \n",
       "CENSUS_BLOCK                                             000100 1000   \n",
       "CENSUS_BLOCKGROUP                                           000100 1   \n",
       "WARD                                                          Ward 2   \n",
       "ANC                                                           ANC 2E   \n",
       "SMD                                                         SMD 2E07   \n",
       "LATITUDE                                                     38.9108   \n",
       "LONGITUDE                                                   -77.0541   \n",
       "\n",
       "GEOID                                                110010001001000  \\\n",
       "geometry           POLYGON ((-77.06474566621758 38.91916571557175...   \n",
       "ADDRESS_ID                                                    273157   \n",
       "MARID                                                         273157   \n",
       "STATUS                                                        ACTIVE   \n",
       "ADDRNUM                                                         2521   \n",
       "STNAME                                                             Q   \n",
       "STREET_TYPE                                                   STREET   \n",
       "QUADRANT                                                          NW   \n",
       "FULLADDRESS                                         2521 Q STREET NW   \n",
       "CITY                                                      WASHINGTON   \n",
       "STATE                                                             DC   \n",
       "CENSUS_TRACT                                                  000100   \n",
       "CENSUS_BLOCK                                             000100 1000   \n",
       "CENSUS_BLOCKGROUP                                           000100 1   \n",
       "WARD                                                          Ward 2   \n",
       "ANC                                                           ANC 2E   \n",
       "SMD                                                         SMD 2E07   \n",
       "LATITUDE                                                     38.9108   \n",
       "LONGITUDE                                                   -77.0542   \n",
       "\n",
       "GEOID                                                110010001001000  \n",
       "geometry           POLYGON ((-77.06474566621758 38.91916571557175...  \n",
       "ADDRESS_ID                                                    279450  \n",
       "MARID                                                         279450  \n",
       "STATUS                                                        ACTIVE  \n",
       "ADDRNUM                                                         1901  \n",
       "STNAME                                                     WISCONSIN  \n",
       "STREET_TYPE                                                   AVENUE  \n",
       "QUADRANT                                                          NW  \n",
       "FULLADDRESS                                 1901 WISCONSIN AVENUE NW  \n",
       "CITY                                                      WASHINGTON  \n",
       "STATE                                                             DC  \n",
       "CENSUS_TRACT                                                  000100  \n",
       "CENSUS_BLOCK                                             000100 1000  \n",
       "CENSUS_BLOCKGROUP                                           000100 1  \n",
       "WARD                                                          Ward 2  \n",
       "ANC                                                           ANC 2E  \n",
       "SMD                                                         SMD 2E07  \n",
       "LATITUDE                                                     38.9163  \n",
       "LONGITUDE                                                   -77.0678  "
      ]
     },
     "execution_count": 36,
     "metadata": {},
     "output_type": "execute_result"
    }
   ],
   "source": [
    "address_to_block = blocks.merge(mar, how='left', left_index=True, right_index=True)\n",
    "address_to_block.head().T"
   ]
  },
  {
   "cell_type": "code",
   "execution_count": 38,
   "metadata": {
    "collapsed": false
   },
   "outputs": [
    {
     "data": {
      "text/plain": [
       "GEOID\n",
       "110010001001000      2\n",
       "110010001001001      2\n",
       "110010001001002      2\n",
       "110010001001003      2\n",
       "110010001001004      2\n",
       "110010001001005      2\n",
       "110010001001006      2\n",
       "110010001001007      2\n",
       "110010001001008      2\n",
       "110010001001009      2\n",
       "110010001001010      2\n",
       "110010001001011      2\n",
       "110010001002000      2\n",
       "110010001002001      2\n",
       "110010001002002      2\n",
       "110010001002003      2\n",
       "110010001002004      2\n",
       "110010001002005    NaN\n",
       "110010001002006      2\n",
       "110010001002007      2\n",
       "110010001002008      2\n",
       "110010001002009      2\n",
       "110010001003000      2\n",
       "110010001003001      2\n",
       "110010001003002      2\n",
       "110010001003003      2\n",
       "110010001003004      2\n",
       "110010001003005      2\n",
       "110010001003006      2\n",
       "110010001003007      2\n",
       "                  ... \n",
       "110010111003028      5\n",
       "110010111003029      5\n",
       "110010111003030    NaN\n",
       "110010111003031      5\n",
       "110010111003032      5\n",
       "110010111003033    NaN\n",
       "110010111003034    NaN\n",
       "110010111003035    NaN\n",
       "110010111003036    NaN\n",
       "110010111003037      5\n",
       "110010111003038      5\n",
       "110010111003039      5\n",
       "110010111003040      5\n",
       "110010111003041      5\n",
       "110010111003042      5\n",
       "110010111003043      5\n",
       "110010111003044    NaN\n",
       "110010111003045      5\n",
       "110010111003046    NaN\n",
       "110010111003047      5\n",
       "110010111003048    NaN\n",
       "110010111003049    NaN\n",
       "110010111003050      5\n",
       "110010111003051    NaN\n",
       "110010111003052      5\n",
       "110010111003053    NaN\n",
       "110010111003054    NaN\n",
       "110010111003055    NaN\n",
       "110010111003056    NaN\n",
       "110010111003057    NaN\n",
       "Name: ward, dtype: object"
      ]
     },
     "execution_count": 38,
     "metadata": {},
     "output_type": "execute_result"
    }
   ],
   "source": [
    "address_to_block['ward'] = address_to_block.WARD.str[-1]\n",
    "address_to_block.reset_index().groupby('GEOID').ward.max()"
   ]
  },
  {
   "cell_type": "code",
   "execution_count": null,
   "metadata": {
    "collapsed": true
   },
   "outputs": [],
   "source": [
    "def get_size_of_intersection(row, soil_type):\n",
    "    return row['geometry'].intersection(soil_type['geometry'].iloc[int(row['index_right'])]).area\n",
    "\n",
    "combined['intersection_size'] = combined.apply(lambda row : \n",
    "                                       get_size_of_intersection(row, soil_type), axis=1)"
   ]
  }
 ],
 "metadata": {
  "anaconda-cloud": {},
  "kernelspec": {
   "display_name": "Python [conda env:py35]",
   "language": "python",
   "name": "conda-env-py35-py"
  },
  "language_info": {
   "codemirror_mode": {
    "name": "ipython",
    "version": 3
   },
   "file_extension": ".py",
   "mimetype": "text/x-python",
   "name": "python",
   "nbconvert_exporter": "python",
   "pygments_lexer": "ipython3",
   "version": "3.5.2"
  }
 },
 "nbformat": 4,
 "nbformat_minor": 1
}
