{
 "cells": [
  {
   "cell_type": "markdown",
   "metadata": {},
   "source": [
    "# Lesson 8: Cross-validation\n",
    "\n",
    "So far, we've learned about splitting our data into training and testing sets to validate our models. This helps ensure that the model we create on one sample performs well on another sample we want to predict. \n",
    "\n",
    "However, we don't have to use just TWO samples to train and test our models. Instead, we can split our data up into MULTIPLE samples to try train and test on multiple segments of the data. This is called CROSS-VALIDATION.\n",
    "\n",
    "Let's begin by importing our packages."
   ]
  },
  {
   "cell_type": "code",
   "execution_count": 1,
   "metadata": {
    "collapsed": false
   },
   "outputs": [],
   "source": [
    "import pandas as pd\n",
    "import numpy as np\n",
    "import matplotlib.pyplot as plt\n",
    "\n",
    "import geopandas as gpd\n",
    "from shapely.geometry import Point, Polygon\n",
    "\n",
    "from sklearn.linear_model import LogisticRegression"
   ]
  },
  {
   "cell_type": "code",
   "execution_count": 2,
   "metadata": {
    "collapsed": true
   },
   "outputs": [],
   "source": [
    "import os\n",
    "\n",
    "os.chdir('C:\\\\Users\\\\peter.casey\\\\Documents\\\\dspp')"
   ]
  },
  {
   "cell_type": "markdown",
   "metadata": {},
   "source": [
    "Today we'll be looking at 311 service requests for rodent inspection and abatement aggregated at the Census block level. The data sets are already prepared for you and available in the same folder as this assignment. Census blocks are a geographic level to analyze rodent infestations, because they are drawn along natural and human-made boundaries, like rivers and roads, that rats tend not to cross. "
   ]
  },
  {
   "cell_type": "code",
   "execution_count": 3,
   "metadata": {
    "collapsed": false
   },
   "outputs": [
    {
     "data": {
      "text/html": [
       "<div>\n",
       "<table border=\"1\" class=\"dataframe\">\n",
       "  <thead>\n",
       "    <tr style=\"text-align: right;\">\n",
       "      <th></th>\n",
       "      <th>0</th>\n",
       "      <th>1</th>\n",
       "      <th>2</th>\n",
       "      <th>3</th>\n",
       "      <th>4</th>\n",
       "    </tr>\n",
       "  </thead>\n",
       "  <tbody>\n",
       "    <tr>\n",
       "      <th>GEOID</th>\n",
       "      <td>110010003003006</td>\n",
       "      <td>110010003003007</td>\n",
       "      <td>110010003003008</td>\n",
       "      <td>110010003003009</td>\n",
       "      <td>110010003003010</td>\n",
       "    </tr>\n",
       "    <tr>\n",
       "      <th>geometry</th>\n",
       "      <td>POLYGON ((-77.07863030944546 38.9161507873491,...</td>\n",
       "      <td>POLYGON ((-77.07698430927661 38.91551178808869...</td>\n",
       "      <td>POLYGON ((-77.07674330851466 38.91301678672006...</td>\n",
       "      <td>POLYGON ((-77.07412130781374 38.91268078711014...</td>\n",
       "      <td>POLYGON ((-77.0750153069756 38.9144277868987, ...</td>\n",
       "    </tr>\n",
       "    <tr>\n",
       "      <th>tot_pop</th>\n",
       "      <td>251</td>\n",
       "      <td>24</td>\n",
       "      <td>22</td>\n",
       "      <td>0</td>\n",
       "      <td>108</td>\n",
       "    </tr>\n",
       "    <tr>\n",
       "      <th>pop_density</th>\n",
       "      <td>6441.11</td>\n",
       "      <td>4827.2</td>\n",
       "      <td>12746</td>\n",
       "      <td>0</td>\n",
       "      <td>22601.7</td>\n",
       "    </tr>\n",
       "  </tbody>\n",
       "</table>\n",
       "</div>"
      ],
      "text/plain": [
       "                                                             0  \\\n",
       "GEOID                                          110010003003006   \n",
       "geometry     POLYGON ((-77.07863030944546 38.9161507873491,...   \n",
       "tot_pop                                                    251   \n",
       "pop_density                                            6441.11   \n",
       "\n",
       "                                                             1  \\\n",
       "GEOID                                          110010003003007   \n",
       "geometry     POLYGON ((-77.07698430927661 38.91551178808869...   \n",
       "tot_pop                                                     24   \n",
       "pop_density                                             4827.2   \n",
       "\n",
       "                                                             2  \\\n",
       "GEOID                                          110010003003008   \n",
       "geometry     POLYGON ((-77.07674330851466 38.91301678672006...   \n",
       "tot_pop                                                     22   \n",
       "pop_density                                              12746   \n",
       "\n",
       "                                                             3  \\\n",
       "GEOID                                          110010003003009   \n",
       "geometry     POLYGON ((-77.07412130781374 38.91268078711014...   \n",
       "tot_pop                                                      0   \n",
       "pop_density                                                  0   \n",
       "\n",
       "                                                             4  \n",
       "GEOID                                          110010003003010  \n",
       "geometry     POLYGON ((-77.0750153069756 38.9144277868987, ...  \n",
       "tot_pop                                                    108  \n",
       "pop_density                                            22601.7  "
      ]
     },
     "execution_count": 3,
     "metadata": {},
     "output_type": "execute_result"
    }
   ],
   "source": [
    "blocks = gpd.read_file('C:\\\\Users\\\\peter.casey\\\\Downloads\\\\Census_Blocks__2010\\\\Census_Blocks__2010.shp')\n",
    "blocks = blocks[['GEOID', 'P0010001', 'SqMiles', 'geometry']]\n",
    "blocks['tot_pop'] = blocks['P0010001']\n",
    "blocks['pop_density'] = blocks['tot_pop']*1.0/blocks['SqMiles']\n",
    "blocks = blocks.drop(['P0010001', 'SqMiles'], axis=1)\n",
    "blocks.head().T"
   ]
  },
  {
   "cell_type": "code",
   "execution_count": 14,
   "metadata": {
    "collapsed": false
   },
   "outputs": [],
   "source": [
    "requests = pd.read_csv('C:\\\\Users\\\\peter.casey\\\\Downloads\\\\City_Service_Requests_in_2016.csv')\n",
    "rats = requests[requests['SERVICECODEDESCRIPTION']=='Rodent Inspection and Treatment']"
   ]
  },
  {
   "cell_type": "code",
   "execution_count": 15,
   "metadata": {
    "collapsed": false
   },
   "outputs": [
    {
     "name": "stderr",
     "output_type": "stream",
     "text": [
      "C:\\Users\\peter.casey\\AppData\\Local\\Continuum\\Anaconda3\\envs\\py35\\lib\\site-packages\\IPython\\core\\interactiveshell.py:2717: DtypeWarning: Columns (29) have mixed types. Specify dtype option on import or set low_memory=False.\n",
      "  interactivity=interactivity, compiler=compiler, result=result)\n"
     ]
    }
   ],
   "source": [
    "bbls = pd.read_csv('C:\\\\Users\\\\peter.casey\\\\Downloads\\\\Basic_Business_License_in_2016.csv')\n",
    "bbls = bbls[bbls.LICENSESTATUS=='ACTIVE']"
   ]
  },
  {
   "cell_type": "code",
   "execution_count": 19,
   "metadata": {
    "collapsed": false
   },
   "outputs": [],
   "source": [
    "geometry = [Point(xy) for xy in zip(rats.LONGITUDE.apply(float), rats.LATITUDE.apply(float))]\n",
    "crs = {'init': 'epsg:4326'}\n",
    "points = gpd.GeoDataFrame(rats, crs=crs, geometry=geometry)\n",
    "\n",
    "geo_rats = gpd.sjoin(blocks, points, how='left', op='intersects')\n",
    "cols = ['GEOID', 'tot_pop', 'pop_density', 'SERVICEORDERDATE', 'RESOLUTIONDATE', 'SERVICEORDERSTATUS', 'WARD']\n",
    "geo_rats.to_csv('rats_to_blocks.csv')"
   ]
  },
  {
   "cell_type": "code",
   "execution_count": 21,
   "metadata": {
    "collapsed": false
   },
   "outputs": [],
   "source": [
    "geometry = [Point(xy) for xy in zip(bbls.LONGITUDE.apply(float), bbls.LATITUDE.apply(float))]\n",
    "crs = {'init': 'epsg:4326'}\n",
    "points = gpd.GeoDataFrame(bbls, crs=crs, geometry=geometry)\n",
    "\n",
    "geo_bbls = gpd.sjoin(blocks, points, how='left', op='intersects')\n",
    "cols = ['GEOID', 'LICENSESTATUS', 'LICENSECATEGORY', 'LICENSE_START_DATE', 'LICENSE_EXPIRATION_DATE', 'LICENSE_ISSUE_DATE', 'WARD']\n",
    "geo_bbls[cols].to_csv('bbls_to_blocks.csv')"
   ]
  },
  {
   "cell_type": "code",
   "execution_count": 22,
   "metadata": {
    "collapsed": false
   },
   "outputs": [],
   "source": [
    "geo_mar = pd.read_csv('C:\\\\Users\\\\peter.casey\\\\Documents\\\\RodentAbatement\\\\address_units_to_blocks.csv')\n",
    "geo_mar.to_csv('address_units_to_blocks.csv')\n",
    "\n",
    "geo_cama = pd.read_csv('C:\\\\Users\\\\peter.casey\\\\Documents\\\\RodentAbatement\\\\cama_to_blocks.csv')\n",
    "geo_cama.to_csv('cama_to_blocks.csv')"
   ]
  },
  {
   "cell_type": "code",
   "execution_count": 23,
   "metadata": {
    "collapsed": false
   },
   "outputs": [],
   "source": [
    "rats = pd.read_csv('rats_to_blocks.csv')\n",
    "bbls = pd.read_csv('bbls_to_blocks.csv')\n",
    "mar = pd.read_csv('address_units_to_blocks.csv')\n",
    "cama = pd.read_csv('cama_to_blocks.csv')"
   ]
  },
  {
   "cell_type": "markdown",
   "metadata": {},
   "source": [
    "Recall from last week that, when we do predictive analysis, we usually are not interested in the relationship between two different variables as we are when we do traditional hypothesis testing. Instead, we're interested in training a model that generates predictions that best fit our target population. \n",
    "\n",
    "When we do cross-validation, the most important decision we make is how we split the data. A key concern is that the subsamples of our data are INDEPENDENT of each other. That is, just like when we split our data into training and testing sets, we want to make sure we're not predicting outcomes for observations with a model trained on data about that observation. This can be complicated with data about an observation that appears more than once, such as one that appears repeatedly over time. We'll discuss this further as we go along. "
   ]
  }
 ],
 "metadata": {
  "anaconda-cloud": {},
  "kernelspec": {
   "display_name": "Python [conda env:py35]",
   "language": "python",
   "name": "conda-env-py35-py"
  },
  "language_info": {
   "codemirror_mode": {
    "name": "ipython",
    "version": 3
   },
   "file_extension": ".py",
   "mimetype": "text/x-python",
   "name": "python",
   "nbconvert_exporter": "python",
   "pygments_lexer": "ipython3",
   "version": "3.5.2"
  }
 },
 "nbformat": 4,
 "nbformat_minor": 1
}
